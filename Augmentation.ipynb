{
  "nbformat": 4,
  "nbformat_minor": 0,
  "metadata": {
    "colab": {
      "name": "Augmentation.ipynb",
      "provenance": [],
      "authorship_tag": "ABX9TyPBNDmjUdkrBa60U2ody2uo",
      "include_colab_link": true
    },
    "kernelspec": {
      "name": "python3",
      "display_name": "Python 3"
    }
  },
  "cells": [
    {
      "cell_type": "markdown",
      "metadata": {
        "id": "view-in-github",
        "colab_type": "text"
      },
      "source": [
        "<a href=\"https://colab.research.google.com/github/ANTTAY001/EEE4022-Final-Year-Project/blob/main/Augmentation.ipynb\" target=\"_parent\"><img src=\"https://colab.research.google.com/assets/colab-badge.svg\" alt=\"Open In Colab\"/></a>"
      ]
    },
    {
      "cell_type": "code",
      "metadata": {
        "id": "n5-2lMuKz9_b"
      },
      "source": [
        "import sys\n",
        "sys.path.insert(0,\"/content/drive/My Drive/4th year - 2020/Final Year Project - Personal/Google_Colab_Doc\")\n",
        "sys.path.insert(0,\"/content/drive/My Drive/4th year - 2020/Final Year Project - Personal/Google_Colab_Doc\")\n",
        "import glob "
      ],
      "execution_count": null,
      "outputs": []
    },
    {
      "cell_type": "markdown",
      "metadata": {
        "id": "UfkpeomANvsb"
      },
      "source": [
        "# **Create EDA sentences**"
      ]
    },
    {
      "cell_type": "code",
      "metadata": {
        "id": "jraNVv54woZV"
      },
      "source": [
        "from eda import *\n",
        "def eda_30(input,output):\n",
        "  num_aug = 16 #default\n",
        "  alpha = 0.05 #default\n",
        "  count = 0\n",
        "  Aug_Caller_Sep = []\n",
        "\n",
        "  filenames1 = glob.glob(input)\n",
        "\n",
        "  for filename1 in filenames1:\n",
        "   \n",
        "    outfile = output+str(count)+'.txt'\n",
        "    count=count+1\n",
        "    with open(filename1,'r') as files_in:\n",
        "    \n",
        "      inputs = files_in.readlines()\n",
        "      \n",
        "      with open(outfile,'w') as files_out:\n",
        "        for line in inputs:\n",
        "          aug_sentences = eda(line, alpha_sr=alpha, alpha_ri=alpha, alpha_rs=alpha, p_rd=alpha, num_aug=num_aug)\n",
        "          for aug_sentence in aug_sentences:\n",
        "            files_out.writelines(aug_sentence+\"\\n\")\n",
        "            Aug_Caller_Sep.append(aug_sentence+\"\\n\")\n"
      ],
      "execution_count": null,
      "outputs": []
    },
    {
      "cell_type": "markdown",
      "metadata": {
        "id": "1vXKQ7S1N038"
      },
      "source": [
        "# **Seperate text into individual transcripts**"
      ]
    },
    {
      "cell_type": "code",
      "metadata": {
        "id": "ouv74Ybx3XXU"
      },
      "source": [
        "def eda_seperate(input,output):\n",
        "\n",
        "  big_count = 99\n",
        "\n",
        "  filenames_30 = glob.glob(input)\n",
        "  for files in filenames_30:\n",
        "    big_count=big_count+1\n",
        "    with open(files,'r') as filein:\n",
        "      \n",
        "      doc = filein.readlines()\n",
        "      length = len(doc)\n",
        "      \n",
        "      for a in range(0,length,17):\n",
        "        \n",
        "        f0=open(output+str(big_count)+'_0.txt','a')\n",
        "        f0.writelines(doc[a])\n",
        "\n",
        "        f1=open(output+str(big_count)+'_1.txt','a')\n",
        "        f1.writelines(doc[a+1]) \n",
        "\n",
        "        f2=open(output+str(big_count)+'_2.txt','a')\n",
        "        f2.writelines(doc[a+2])\n",
        "\n",
        "        f3=open(output+str(big_count)+'_3.txt','a')\n",
        "        f3.writelines(doc[a+3])\n",
        "\n",
        "        f4=open(output+str(big_count)+'_4.txt','a')\n",
        "        f4.writelines(doc[a+4])\n",
        "\n",
        "        f5=open(output+str(big_count)+'_5.txt','a')\n",
        "        f5.writelines(doc[a+5])\n",
        "\n",
        "        f6=open(output+str(big_count)+'_6.txt','a')\n",
        "        f6.writelines(doc[a+6])\n",
        "\n",
        "        f7=open(output+str(big_count)+'_7.txt','a')\n",
        "        f7.writelines(doc[a+7])\n",
        "\n",
        "        f8=open(output+str(big_count)+'_8.txt','a')\n",
        "        f8.writelines(doc[a+8])\n",
        "\n",
        "        f9=open(output+str(big_count)+'_9.txt','a')\n",
        "        f9.writelines(doc[a+9])\n",
        "\n",
        "        f10=open(output+str(big_count)+'_10.txt','a')\n",
        "        f10.writelines(doc[a+10])\n",
        "\n",
        "        f11=open(output+str(big_count)+'_11.txt','a')\n",
        "        f11.writelines(doc[a+11])\n",
        "\n",
        "        f12=open(output+str(big_count)+'_12.txt','a')\n",
        "        f12.writelines(doc[a+12])\n",
        "\n",
        "        f13=open(output+str(big_count)+'_13.txt','a')\n",
        "        f13.writelines(doc[a+13])\n",
        "\n",
        "        f14=open(output+str(big_count)+'_14.txt','a')\n",
        "        f14.writelines(doc[a+14])\n",
        "\n",
        "        f15=open(output+str(big_count)+'_15.txt','a')\n",
        "        f15.writelines(doc[a+15])\n",
        "\n",
        "        f16=open(output+str(big_count)+'_16.txt','a')\n",
        "        f16.writelines(doc[a+16])\n",
        "    "
      ],
      "execution_count": null,
      "outputs": []
    },
    {
      "cell_type": "markdown",
      "metadata": {
        "id": "UDUvzGh3N_pm"
      },
      "source": [
        ""
      ]
    },
    {
      "cell_type": "markdown",
      "metadata": {
        "id": "Rg51ME-pgOmZ"
      },
      "source": [
        "# **Saving augmented text to text file**"
      ]
    },
    {
      "cell_type": "code",
      "metadata": {
        "id": "cmEGUOfffFtC"
      },
      "source": [
        "# Sepsis\n",
        "sepsis_in_aug='/content/drive/My Drive/4th year - 2020/Final Year Project - Personal/Google_Colab_Doc/Sep_Individual_Caller/Beta/Training/*.txt'\n",
        "sepsis_out_aug='/content/drive/My Drive/4th year - 2020/Final Year Project - Personal/29 10 2020/Training_Data/Sepsis/Grouped/Sep_Aug_300_'\n",
        "eda_30(sepsis_in_aug,sepsis_out_aug)\n"
      ],
      "execution_count": null,
      "outputs": []
    },
    {
      "cell_type": "code",
      "metadata": {
        "id": "IAFuCEtvl8IX"
      },
      "source": [
        "#Myocardial\n",
        "myo_in_aug='/content/drive/My Drive/4th year - 2020/Final Year Project - Personal/Google_Colab_Doc/Myo_Individual_Caller/Beta/Training/*.txt'\n",
        "myo_out_aug='/content/drive/My Drive/4th year - 2020/Final Year Project - Personal/29 10 2020/Training_Data/Myo/Grouped/Myo_Aug_300_'\n",
        "eda_30(myo_in_aug,myo_out_aug)\n"
      ],
      "execution_count": null,
      "outputs": []
    },
    {
      "cell_type": "code",
      "metadata": {
        "id": "-bm4lIEVmBNO"
      },
      "source": [
        "#Cardiac Arrest\n",
        "ca_in_aug='/content/drive/My Drive/4th year - 2020/Final Year Project - Personal/Google_Colab_Doc/CA_Individual_Caller/Beta/Training/*.txt'\n",
        "ca_out_aug='/content/drive/My Drive/4th year - 2020/Final Year Project - Personal/29 10 2020/Training_Data/CA/Grouped/CA_Aug_300_'\n",
        "eda_30(ca_in_aug,ca_out_aug)"
      ],
      "execution_count": null,
      "outputs": []
    },
    {
      "cell_type": "markdown",
      "metadata": {
        "id": "nQBwtNMug8lj"
      },
      "source": [
        "**Seperate individual transcripts into new textfile**"
      ]
    },
    {
      "cell_type": "code",
      "metadata": {
        "id": "eXghI_d1g-4Z"
      },
      "source": [
        "# Sepsis\n",
        "sepsis_in_aug='/content/drive/My Drive/4th year - 2020/Final Year Project - Personal/29 10 2020/Training_Data/Sepsis/Grouped/*.txt'\n",
        "sepsis_out_aug='/content/drive/My Drive/4th year - 2020/Final Year Project - Personal/29 10 2020/Training_Data/Sepsis/Seperate/Sep_Aug_'\n",
        "eda_seperate(sepsis_in_aug,sepsis_out_aug)\n"
      ],
      "execution_count": null,
      "outputs": []
    },
    {
      "cell_type": "code",
      "metadata": {
        "id": "rhOz5s4GmKBY"
      },
      "source": [
        "#Myocardial\n",
        "myo_in_aug='/content/drive/My Drive/4th year - 2020/Final Year Project - Personal/29 10 2020/Training_Data/Myo/Grouped/*.txt'\n",
        "myo_out_aug='/content/drive/My Drive/4th year - 2020/Final Year Project - Personal/29 10 2020/Training_Data/Myo/Seperate/Myo_Aug_'\n",
        "eda_seperate(myo_in_aug,myo_out_aug)"
      ],
      "execution_count": null,
      "outputs": []
    },
    {
      "cell_type": "code",
      "metadata": {
        "id": "nbJaJ5tzmLfO"
      },
      "source": [
        "#Cardiac Arrest\n",
        "ca_in_aug='/content/drive/My Drive/4th year - 2020/Final Year Project - Personal/29 10 2020/Training_Data/CA/Grouped/*.txt'\n",
        "ca_out_aug='/content/drive/My Drive/4th year - 2020/Final Year Project - Personal/29 10 2020/Training_Data/CA/Seperate/CA_Aug_'\n",
        "eda_seperate(ca_in_aug,ca_out_aug)\n"
      ],
      "execution_count": null,
      "outputs": []
    },
    {
      "cell_type": "markdown",
      "metadata": {
        "id": "fWI50zSOXE5E"
      },
      "source": [
        "# **Creating a CSV file with ALL augmented data**"
      ]
    },
    {
      "cell_type": "code",
      "metadata": {
        "id": "tS3TNIq5eI2f"
      },
      "source": [
        "import csv\n",
        "\n",
        "#Creating csv file where each row is an individual caller script\n",
        "def create_csv(fileSEP,fileMYO,fileCA):\n",
        "  pathSEP = glob.glob(fileSEP)\n",
        "  pathMYO = glob.glob(fileMYO)\n",
        "  pathCA = glob.glob(fileCA)\n",
        " \n",
        "  sep=[]\n",
        "  myo=[]\n",
        "  ca=[]\n",
        "\n",
        "  for files in pathSEP:\n",
        "    with open(files,'r') as f:\n",
        "      sep.append(f.read())\n",
        "  sep_dict = { each : \"Sepsis\" for each in sep}\n",
        "  \n",
        "  \n",
        "  for files in pathMYO:\n",
        "    with open(files,'r') as f:\n",
        "      myo.append(f.read())\n",
        "  myo_1 = myo[:336]\n",
        "  myo_dict = { each : \"Myocardial Infarcation\" for each in myo_1}\n",
        "\n",
        "  for files in pathCA:\n",
        "    with open(files,'r') as f:\n",
        "      ca.append(f.read())\n",
        "  ca_1 = ca[:378]\n",
        "  ca_dict = { each : \"Cardiac Arrest\" for each in ca_1}\n",
        "\n",
        "  z = merge_dicts(sep_dict,myo_dict,ca_dict)\n",
        "  dict1 = {'description': list(z.keys()), 'disease': list(z.values())}  \n",
        "     \n",
        "  df = pd.DataFrame(dict1) \n",
        "  # saving the dataframe \n",
        "  df.to_csv(r'/content/drive/My Drive/4th year - 2020/Final Year Project - Personal/29 10 2020/Training_Data/Merged_NEW.csv', index=False)\n",
        "  \n",
        "\n",
        "def merge_dicts(*dict_args):\n",
        "    \"\"\"\n",
        "    Given any number of dictionaries, shallow copy and merge into a new dict,\n",
        "    precedence goes to key value pairs in latter dictionaries.\n",
        "    \"\"\"\n",
        "    result = {}\n",
        "    for dictionary in dict_args:\n",
        "        result.update(dictionary)\n",
        "    return result\n",
        "\n",
        "        "
      ],
      "execution_count": null,
      "outputs": []
    },
    {
      "cell_type": "markdown",
      "metadata": {
        "id": "Us5Sl4i6Oiet"
      },
      "source": [
        "**Create CSV file of data sets**"
      ]
    },
    {
      "cell_type": "code",
      "metadata": {
        "id": "udTT26_ooW_h"
      },
      "source": [
        "# TEST 2 - NB CHANGE OUTPUT FILE IN FUNCTION\n",
        "# TRAINING DATA\n",
        "sep_in='/content/drive/My Drive/4th year - 2020/Final Year Project - Personal/29 10 2020/Training_Data/Sepsis/Seperate/*.txt'\n",
        "myo_in='/content/drive/My Drive/4th year - 2020/Final Year Project - Personal/29 10 2020/Training_Data/Myo/Seperate/*.txt'\n",
        "ca_in= '/content/drive/My Drive/4th year - 2020/Final Year Project - Personal/29 10 2020/Training_Data/CA/Seperate/*.txt'\n",
        "create_csv(sep_in,myo_in,ca_in)\n",
        "\n"
      ],
      "execution_count": null,
      "outputs": []
    },
    {
      "cell_type": "code",
      "metadata": {
        "id": "HGiW-DRSpvki"
      },
      "source": [
        "# TEST 2 - NB CHANGE OUTPUT FILE IN FUNCTION\n",
        "# TESTING DATA\n",
        "sep_in='/content/drive/My Drive/4th year - 2020/Final Year Project - Personal/Google_Colab_Doc/Sep_Individual_Caller/Beta/Testing/*.txt'\n",
        "myo_in='/content/drive/My Drive/4th year - 2020/Final Year Project - Personal/Google_Colab_Doc/Myo_Individual_Caller/Beta/Testing/*.txt'\n",
        "ca_in= '/content/drive/My Drive/4th year - 2020/Final Year Project - Personal/Google_Colab_Doc/CA_Individual_Caller/Beta/Testing/*.txt'\n",
        "create_csv(sep_in,myo_in,ca_in)\n"
      ],
      "execution_count": null,
      "outputs": []
    }
  ]
}